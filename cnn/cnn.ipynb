{
 "cells": [
  {
   "cell_type": "markdown",
   "metadata": {},
   "source": [
    "## Convolution 1D\n"
   ]
  },
  {
   "cell_type": "code",
   "execution_count": 1,
   "metadata": {},
   "outputs": [
    {
     "name": "stdout",
     "output_type": "stream",
     "text": [
      "Conv1d Implementation: [ 5. 14. 16. 26. 24. 34. 19. 22.]\n",
      "Numpy Results: [ 5 14 16 26 24 34 19 22]\n"
     ]
    }
   ],
   "source": [
    "import numpy as np\n",
    "def conv1d(x, w, p=0,s=1):\n",
    "    w_rot=np.array(w[::-1])\n",
    "    x_padded=np.array(x)\n",
    "    if p>0:\n",
    "        zero_pad=np.zeros(shape=p)\n",
    "        x_padded=np.concatenate([zero_pad,x_padded,zero_pad])\n",
    "    res=[]\n",
    "    for i in range(0,int((len(x_padded)-len(w_rot))/s)+1,s):\n",
    "        res.append(np.sum(x_padded[i:i+w_rot.shape[0]]*w_rot))\n",
    "    return np.array(res)\n",
    "x=np.array([1,3,2,4,5,6,1,3])\n",
    "w=np.array([1,0,3,1,2])\n",
    "\n",
    "print('Conv1d Implementation:',conv1d(x,w,p=2,s=1))\n",
    "print('Numpy Results:',np.convolve(x,w,mode='same'))\n"
   ]
  },
  {
   "cell_type": "markdown",
   "metadata": {},
   "source": [
    "## CNN on MNIST\n"
   ]
  },
  {
   "cell_type": "code",
   "execution_count": 15,
   "metadata": {},
   "outputs": [],
   "source": [
    "import torch\n",
    "import torchvision\n",
    "from torchvision import transforms\n",
    "\n",
    "\n",
    "image_path=\"../\"\n",
    "transforms=transforms.Compose([transforms.ToTensor()])\n",
    "mnist_dataset=torchvision.datasets.MNIST(root=image_path,train=True,transform=transforms,download=False)\n",
    "from torch.utils.data import Subset\n",
    "mnist_valid_dataset = Subset(mnist_dataset, torch.arange(10000))\n",
    "mnist_train_dataset = Subset(mnist_dataset, torch.arange(10000, len(mnist_dataset)))\n",
    "mnist_test_dataset = torchvision.datasets.MNIST(root=image_path, train=False, transform=transforms, download=False)\n",
    "\n"
   ]
  },
  {
   "cell_type": "code",
   "execution_count": 16,
   "metadata": {},
   "outputs": [],
   "source": [
    "from torch import manual_seed\n",
    "from torch.utils.data import DataLoader\n",
    "batch_size = 64\n",
    "torch,manual_seed(1)\n",
    "train_dl = DataLoader(mnist_train_dataset, batch_size, shuffle=True)\n",
    "valid_dl = DataLoader(mnist_valid_dataset, batch_size, shuffle=False)\n"
   ]
  },
  {
   "cell_type": "markdown",
   "metadata": {},
   "source": [
    "### Constructing CNN using Pytorch\n"
   ]
  },
  {
   "cell_type": "code",
   "execution_count": 27,
   "metadata": {},
   "outputs": [],
   "source": [
    "import torch.nn as nn\n",
    "model = nn.Sequential()\n",
    "model.add_module('conv1', nn.Conv2d(in_channels=1, out_channels=32, kernel_size=5, padding=2 ))\n",
    "model.add_module('relu1', nn.ReLU())\n",
    "model.add_module('pool1', nn.MaxPool2d(kernel_size=2))\n",
    "model.add_module(\n",
    "    'conv2', nn.Conv2d(in_channels=32, out_channels=64, kernel_size=5,padding=2))\n",
    "model.add_module('relu2', nn.ReLU())\n",
    "model.add_module('pool2', nn.MaxPool2d(kernel_size=2))\n",
    "model.add_module('flatten', nn.Flatten())\n",
    "model.add_module('fc1', nn.Linear(3136, 1024))\n",
    "model.add_module('relu3', nn.ReLU())\n",
    "model.add_module('dropout', nn.Dropout(0.5))\n",
    "model.add_module('fc2', nn.Linear(1024, 10))"
   ]
  },
  {
   "cell_type": "code",
   "execution_count": 18,
   "metadata": {},
   "outputs": [
    {
     "data": {
      "text/plain": [
       "torch.Size([4, 10])"
      ]
     },
     "execution_count": 18,
     "metadata": {},
     "output_type": "execute_result"
    }
   ],
   "source": [
    "\n",
    "x = torch.ones((4,1,28,28))\n",
    "model(x).shape"
   ]
  },
  {
   "cell_type": "code",
   "execution_count": 28,
   "metadata": {},
   "outputs": [],
   "source": [
    "loss_fn=nn.CrossEntropyLoss()\n",
    "optimizer= torch.optim.Adam(model.parameters(),lr=0.001)\n"
   ]
  },
  {
   "cell_type": "code",
   "execution_count": 29,
   "metadata": {},
   "outputs": [],
   "source": [
    "# training the model\n",
    "def train(model, num_epochs, train_dl,valid_dl):\n",
    "    loss_hist_train= [0]*num_epochs\n",
    "    accuracy_hist_train=[0]*num_epochs\n",
    "    loss_hist_valid=[0]*num_epochs\n",
    "    accuracy_hist_valid=[0]*num_epochs\n",
    "    for epoch in range(num_epochs):\n",
    "        model.train()   \n",
    "        for x_batch,y_batch in train_dl:\n",
    "            y_pred=model(x_batch)\n",
    "            loss=loss_fn(y_pred,y_batch)\n",
    "            loss.backward()\n",
    "            optimizer.step()\n",
    "            optimizer.zero_grad()\n",
    "            loss_hist_train[epoch]+=loss.item()*y_batch.size(0)\n",
    "            is_correct=(torch.argmax(y_pred,dim=1)==y_batch).float()\n",
    "            accuracy_hist_train[epoch]+=is_correct.sum()\n",
    "        loss_hist_train[epoch]=loss_hist_train[epoch]/len(train_dl.dataset)\n",
    "        accuracy_hist_train[epoch]=accuracy_hist_train[epoch]/len(train_dl.dataset)\n",
    "    model.eval()\n",
    "    with torch.no_grad():\n",
    "        for x_batch,y_batch in valid_dl:\n",
    "            y_pred=model(x_batch)\n",
    "            loss=loss_fn(y_pred,y_batch)\n",
    "            loss_hist_valid[epoch]=loss.item()*y_batch.size(0)\n",
    "            is_correct=(torch.argmax(y_pred,dim=1)==y_batch).float()\n",
    "            accuracy_hist_valid[epoch]=is_correct.sum()\n",
    "    loss_hist_valid[epoch]=loss_hist_valid[epoch]/len(valid_dl.dataset)\n",
    "    accuracy_hist_valid[epoch]=accuracy_hist_valid[epoch]/len(valid_dl.dataset)\n",
    "    print(f'Epoch {epoch+1}/{num_epochs},train_loss: {loss_hist_train[epoch]:.4f},train_accuracy: {accuracy_hist_train[epoch]:.4f},valid_loss: {loss_hist_valid[epoch]:.4f},valid_accuracy: {accuracy_hist_valid[epoch]:.4f}')\n",
    "    return loss_hist_train,accuracy_hist_train,loss_hist_valid,accuracy_hist_valid\n",
    "    \n"
   ]
  },
  {
   "cell_type": "code",
   "execution_count": 30,
   "metadata": {},
   "outputs": [
    {
     "name": "stdout",
     "output_type": "stream",
     "text": [
      "Epoch 20/20,train_loss: 0.0073,train_accuracy: 0.9978,valid_loss: 0.0000,valid_accuracy: 0.0016\n"
     ]
    }
   ],
   "source": [
    "torch.manual_seed(1)\n",
    "num_epochs=20\n",
    "hist=train(model,num_epochs,train_dl,valid_dl)"
   ]
  },
  {
   "cell_type": "code",
   "execution_count": 33,
   "metadata": {},
   "outputs": [],
   "source": [
    "torch.save(model, \"model-cnn.pth\")"
   ]
  }
 ],
 "metadata": {
  "kernelspec": {
   "display_name": "my_virtual_env",
   "language": "python",
   "name": "python3"
  },
  "language_info": {
   "codemirror_mode": {
    "name": "ipython",
    "version": 3
   },
   "file_extension": ".py",
   "mimetype": "text/x-python",
   "name": "python",
   "nbconvert_exporter": "python",
   "pygments_lexer": "ipython3",
   "version": "3.10.12"
  }
 },
 "nbformat": 4,
 "nbformat_minor": 2
}
