{
 "cells": [
  {
   "cell_type": "code",
   "execution_count": 7,
   "metadata": {},
   "outputs": [],
   "source": [
    "# creating neural network from scratch\n",
    "from sklearn.datasets import fetch_openml\n",
    "X,y=fetch_openml('mnist_784',version=1,return_X_y=True)"
   ]
  },
  {
   "cell_type": "code",
   "execution_count": 8,
   "metadata": {},
   "outputs": [
    {
     "name": "stdout",
     "output_type": "stream",
     "text": [
      "(70000, 784)\n",
      "(70000,)\n"
     ]
    }
   ],
   "source": [
    "X=X.values\n",
    "y=y.astype(int).values\n",
    "print(X.shape)\n",
    "print(y.shape)\n",
    "X=((X/255)-0.5)*2 #normalizing the data"
   ]
  },
  {
   "cell_type": "code",
   "execution_count": 10,
   "metadata": {},
   "outputs": [
    {
     "data": {
      "image/png": "[encoded data removed]",
      "text/plain": [
       "<Figure size 640x480 with 10 Axes>"
      ]
     },
     "metadata": {},
     "output_type": "display_data"
    }
   ],
   "source": [
    "# visualize 0-9 digits\n",
    "import matplotlib.pyplot as plt\n",
    "fig, ax = plt.subplots(nrows=2, ncols=5,\n",
    "sharex=True, sharey=True)\n",
    "ax = ax.flatten()\n",
    "for i in range(10):\n",
    "    img = X[y == i][0].reshape(28, 28)\n",
    "    ax[i].imshow(img, cmap='Greys')\n",
    "ax[0].set_xticks([])\n",
    "ax[0].set_yticks([])\n",
    "plt.tight_layout()\n",
    "plt.show()"
   ]
  },
  {
   "cell_type": "code",
   "execution_count": 11,
   "metadata": {},
   "outputs": [],
   "source": [
    "# split the data into training, testing and validation\n",
    "from sklearn.model_selection import train_test_split\n",
    "X_train, X_test, y_train, y_test = train_test_split(X, y, test_size=10000, random_state=123, stratify=y)\n",
    "X_train, X_valid, y_train, y_valid = train_test_split(X_train, y_train, test_size=50000, random_state=123, stratify=y_train)"
   ]
  },
  {
   "cell_type": "code",
   "execution_count": 12,
   "metadata": {},
   "outputs": [],
   "source": [
    "import numpy as np\n",
    "\n",
    "\n",
    "##########################\n",
    "### MODEL\n",
    "##########################\n",
    "\n",
    "def sigmoid(z):\n",
    "    return 1. / (1. + np.exp(-z))\n",
    "\n",
    "\n",
    "def int_to_onehot(y, num_labels):\n",
    "\n",
    "    ary = np.zeros((y.shape[0], num_labels))\n",
    "    for i, val in enumerate(y):\n",
    "        ary[i, val] = 1\n",
    "\n",
    "    return ary\n",
    "\n",
    "\n",
    "class NeuralNetMLP:\n",
    "\n",
    "    def __init__(self, num_features, num_hidden, num_classes, random_seed=123):\n",
    "        super().__init__()\n",
    "\n",
    "        self.num_classes = num_classes\n",
    "\n",
    "        # hidden\n",
    "        rng = np.random.RandomState(random_seed)\n",
    "\n",
    "        self.weight_h = rng.normal(\n",
    "            loc=0.0, scale=0.1, size=(num_hidden, num_features))\n",
    "        self.bias_h = np.zeros(num_hidden)\n",
    "\n",
    "        # output\n",
    "        self.weight_out = rng.normal(\n",
    "            loc=0.0, scale=0.1, size=(num_classes, num_hidden))\n",
    "        self.bias_out = np.zeros(num_classes)\n",
    "\n",
    "    def forward(self, x):\n",
    "        # Hidden layer\n",
    "        # input dim: [n_examples, n_features] dot [n_hidden, n_features].T\n",
    "        # output dim: [n_examples, n_hidden]\n",
    "        z_h = np.dot(x, self.weight_h.T) + self.bias_h\n",
    "        a_h = sigmoid(z_h)\n",
    "\n",
    "        # Output layer\n",
    "        # input dim: [n_examples, n_hidden] dot [n_classes, n_hidden].T\n",
    "        # output dim: [n_examples, n_classes]\n",
    "        z_out = np.dot(a_h, self.weight_out.T) + self.bias_out\n",
    "        a_out = sigmoid(z_out)\n",
    "        return a_h, a_out\n",
    "\n",
    "    def backward(self, x, a_h, a_out, y):  \n",
    "    \n",
    "        #########################\n",
    "        ### Output layer weights\n",
    "        #########################\n",
    "        \n",
    "        # onehot encoding\n",
    "        y_onehot = int_to_onehot(y, self.num_classes)\n",
    "\n",
    "        # Part 1: dLoss/dOutWeights\n",
    "        ## = dLoss/dOutAct * dOutAct/dOutNet * dOutNet/dOutWeight\n",
    "        ## where DeltaOut = dLoss/dOutAct * dOutAct/dOutNet\n",
    "        ## for convenient re-use\n",
    "        \n",
    "        # input/output dim: [n_examples, n_classes]\n",
    "        d_loss__d_a_out = 2.*(a_out - y_onehot) / y.shape[0]\n",
    "\n",
    "        # input/output dim: [n_examples, n_classes]\n",
    "        d_a_out__d_z_out = a_out * (1. - a_out) # sigmoid derivative\n",
    "\n",
    "        # output dim: [n_examples, n_classes]\n",
    "        delta_out = d_loss__d_a_out * d_a_out__d_z_out # \"delta (rule) placeholder\"\n",
    "\n",
    "        # gradient for output weights\n",
    "        \n",
    "        # [n_examples, n_hidden]\n",
    "        d_z_out__dw_out = a_h\n",
    "        \n",
    "        # input dim: [n_classes, n_examples] dot [n_examples, n_hidden]\n",
    "        # output dim: [n_classes, n_hidden]\n",
    "        d_loss__dw_out = np.dot(delta_out.T, d_z_out__dw_out)\n",
    "        d_loss__db_out = np.sum(delta_out, axis=0)\n",
    "        \n",
    "\n",
    "        #################################        \n",
    "        # Part 2: dLoss/dHiddenWeights\n",
    "        ## = DeltaOut * dOutNet/dHiddenAct * dHiddenAct/dHiddenNet * dHiddenNet/dWeight\n",
    "        \n",
    "        # [n_classes, n_hidden]\n",
    "        d_z_out__a_h = self.weight_out\n",
    "        \n",
    "        # output dim: [n_examples, n_hidden]\n",
    "        d_loss__a_h = np.dot(delta_out, d_z_out__a_h)\n",
    "        \n",
    "        # [n_examples, n_hidden]\n",
    "        d_a_h__d_z_h = a_h * (1. - a_h) # sigmoid derivative\n",
    "        \n",
    "        # [n_examples, n_features]\n",
    "        d_z_h__d_w_h = x\n",
    "        \n",
    "        # output dim: [n_hidden, n_features]\n",
    "        d_loss__d_w_h = np.dot((d_loss__a_h * d_a_h__d_z_h).T, d_z_h__d_w_h)\n",
    "        d_loss__d_b_h = np.sum((d_loss__a_h * d_a_h__d_z_h), axis=0)\n",
    "\n",
    "        return d_loss__dw_out, d_loss__db_out, d_loss__d_w_h, d_loss__d_b_h"
   ]
  },
  {
   "cell_type": "code",
   "execution_count": 13,
   "metadata": {},
   "outputs": [],
   "source": [
    "# initialize neural network The model accepts MNIST images reshaped into 784-dimensional vectors (in the format of X_train, \n",
    "# X_valid, or X_test, which we defined previously) for the 10 integer classes (digits 0-9). The hidden \n",
    "# layer consists of 50 nodes.\n",
    "model = NeuralNetMLP(num_features=28*28, \n",
    "                     num_hidden=50, \n",
    "                     num_classes=10)"
   ]
  },
  {
   "cell_type": "code",
   "execution_count": 15,
   "metadata": {},
   "outputs": [],
   "source": [
    "# training the model, we will this in mini batches\n",
    "\n",
    "import numpy as np \n",
    "num_epochs = 50 \n",
    "minibatch_size = 100\n",
    "def minibatch_generator(X, y, batch_size):\n",
    "  indices = np.arange(X.shape[0])\n",
    "  np.random.shuffle(indices)\n",
    "  for start_idx in range(0,indices.shape[0]-minibatch_size+1, minibatch_size):\n",
    "    index_slice = indices[start_idx:start_idx+minibatch_size]\n",
    "    yield X[index_slice], y[index_slice]\n"
   ]
  },
  {
   "cell_type": "code",
   "execution_count": 21,
   "metadata": {},
   "outputs": [],
   "source": [
    "def mse_loss(targets,probas,num_labels=10):\n",
    "    onehot_targets = int_to_onehot(targets,num_labels=num_labels)\n",
    "    return np.mean((onehot_targets-probas)**2,axis=1)\n",
    "def accuracy(targets, predicted_labels):\n",
    "    return np.mean(targets==predicted_labels)"
   ]
  },
  {
   "cell_type": "code",
   "execution_count": 26,
   "metadata": {},
   "outputs": [
    {
     "name": "stdout",
     "output_type": "stream",
     "text": [
      "Validation MSE: 0.2709610406742955\n",
      "Validation accuracy: 0.09\n"
     ]
    }
   ],
   "source": [
    "_,probas = model.forward(X_valid)\n",
    "mse= mse_loss(y_valid,probas)\n",
    "print(f'Validation MSE:',np.mean(mse))\n",
    "predicted_labels = np.argmax(probas, axis=1)\n",
    "acc = accuracy(y_valid, predicted_labels)\n",
    "print(f'Validation accuracy: {acc:.2f}')\n"
   ]
  },
  {
   "cell_type": "code",
   "execution_count": 30,
   "metadata": {},
   "outputs": [],
   "source": [
    "def compute_mse_and_acc(nnet, X, y, num_labels=10,\n",
    "    minibatch_size=100):\n",
    "    mse, correct_pred, num_examples = 0., 0, 0\n",
    "    minibatch_gen = minibatch_generator(X, y, minibatch_size)\n",
    "    for i, (features, targets) in enumerate(minibatch_gen):\n",
    "      _, probas = nnet.forward(features)\n",
    "      predicted_labels = np.argmax(probas, axis=1)\n",
    "      onehot_targets = int_to_onehot(\n",
    "      targets, num_labels=num_labels)\n",
    "      loss = np.mean((onehot_targets - probas)**2)\n",
    "      correct_pred += (predicted_labels == targets).sum()\n",
    "      num_examples += targets.shape[0]\n",
    "      mse += loss\n",
    "    mse = mse/i\n",
    "    acc = correct_pred/num_examples\n",
    "    return mse, acc"
   ]
  },
  {
   "cell_type": "code",
   "execution_count": 31,
   "metadata": {},
   "outputs": [
    {
     "name": "stdout",
     "output_type": "stream",
     "text": [
      "Validation MSE: 0.3, Validation Acc: 0.09\n"
     ]
    }
   ],
   "source": [
    "mse, acc = compute_mse_and_acc(model, X_valid, y_valid)\n",
    "print(f'Validation MSE: {mse:.1f}, Validation Acc: {acc:.2f}')\n"
   ]
  },
  {
   "cell_type": "code",
   "execution_count": 35,
   "metadata": {},
   "outputs": [],
   "source": [
    "# implemen the training loop\n",
    "def train(model,X_train,y_train,X_valid,y_valid,num_epochs=50,learning_rate=0.1):\n",
    "    epoch_loss = []\n",
    "    epoch_train_acc = []\n",
    "    epoch_valid_acc = []\n",
    "    for e in range (num_epochs):\n",
    "        minibatch_gen= minibatch_generator(X_train,y_train,minibatch_size)\n",
    "        for X_train_mini,y_train_mini in minibatch_gen:\n",
    "            # forward pass-- compute the outputs\n",
    "            a_h,a_out = model.forward(X_train_mini)\n",
    "            # compute the loss-- gradient descent\n",
    "            d_loss__d_w_out, d_loss__d_b_out, d_loss__d_w_h, d_loss__d_b_h = model.backward(X_train_mini, a_h, a_out, y_train_mini)\n",
    "            # update the weights\n",
    "            model.weight_h -= learning_rate * d_loss__d_w_h\n",
    "            model.bias_h -= learning_rate * d_loss__d_b_h\n",
    "            model.weight_out -= learning_rate * d_loss__d_w_out\n",
    "            model.bias_out -= learning_rate * d_loss__d_b_out\n",
    "        # Epochs logging\n",
    "        train_mse, train_acc = compute_mse_and_acc(model, X_train, y_train)\n",
    "        valid_mse, valid_acc = compute_mse_and_acc(model, X_valid, y_valid)\n",
    "        train_acc,valid_acc = train_acc*100,valid_acc*100\n",
    "        epoch_train_acc.append(train_acc)\n",
    "        epoch_valid_acc.append(valid_acc)\n",
    "        epoch_loss.append(train_mse)\n",
    "        print(f'Epoch: {e+1}/{num_epochs} | Train Acc: {train_acc:.2f}% | Validation Acc: {valid_acc:.2f}%')\n",
    "    return epoch_loss,epoch_train_acc,epoch_valid_acc"
   ]
  },
  {
   "cell_type": "code",
   "execution_count": 36,
   "metadata": {},
   "outputs": [
    {
     "name": "stdout",
     "output_type": "stream",
     "text": [
      "Epoch: 1/50 | Train Acc: 33.80% | Validation Acc: 33.72%\n",
      "Epoch: 2/50 | Train Acc: 46.33% | Validation Acc: 46.77%\n",
      "Epoch: 3/50 | Train Acc: 62.05% | Validation Acc: 62.25%\n",
      "Epoch: 4/50 | Train Acc: 69.40% | Validation Acc: 69.84%\n",
      "Epoch: 5/50 | Train Acc: 75.25% | Validation Acc: 74.93%\n",
      "Epoch: 6/50 | Train Acc: 78.58% | Validation Acc: 78.15%\n",
      "Epoch: 7/50 | Train Acc: 81.23% | Validation Acc: 80.84%\n",
      "Epoch: 8/50 | Train Acc: 82.99% | Validation Acc: 82.52%\n",
      "Epoch: 9/50 | Train Acc: 84.23% | Validation Acc: 83.76%\n",
      "Epoch: 10/50 | Train Acc: 85.18% | Validation Acc: 84.47%\n",
      "Epoch: 11/50 | Train Acc: 86.05% | Validation Acc: 85.54%\n",
      "Epoch: 12/50 | Train Acc: 86.90% | Validation Acc: 86.25%\n",
      "Epoch: 13/50 | Train Acc: 87.00% | Validation Acc: 86.24%\n",
      "Epoch: 14/50 | Train Acc: 87.79% | Validation Acc: 86.95%\n",
      "Epoch: 15/50 | Train Acc: 88.30% | Validation Acc: 87.48%\n",
      "Epoch: 16/50 | Train Acc: 88.53% | Validation Acc: 87.75%\n",
      "Epoch: 17/50 | Train Acc: 88.88% | Validation Acc: 88.08%\n",
      "Epoch: 18/50 | Train Acc: 88.89% | Validation Acc: 88.07%\n",
      "Epoch: 19/50 | Train Acc: 89.40% | Validation Acc: 88.62%\n",
      "Epoch: 20/50 | Train Acc: 89.78% | Validation Acc: 88.71%\n",
      "Epoch: 21/50 | Train Acc: 90.02% | Validation Acc: 88.88%\n",
      "Epoch: 22/50 | Train Acc: 90.04% | Validation Acc: 88.97%\n",
      "Epoch: 23/50 | Train Acc: 90.46% | Validation Acc: 89.26%\n",
      "Epoch: 24/50 | Train Acc: 90.57% | Validation Acc: 89.40%\n",
      "Epoch: 25/50 | Train Acc: 90.64% | Validation Acc: 89.53%\n",
      "Epoch: 26/50 | Train Acc: 90.83% | Validation Acc: 89.69%\n",
      "Epoch: 27/50 | Train Acc: 90.93% | Validation Acc: 89.61%\n",
      "Epoch: 28/50 | Train Acc: 91.15% | Validation Acc: 89.91%\n",
      "Epoch: 29/50 | Train Acc: 91.19% | Validation Acc: 89.95%\n",
      "Epoch: 30/50 | Train Acc: 91.21% | Validation Acc: 90.07%\n",
      "Epoch: 31/50 | Train Acc: 91.50% | Validation Acc: 90.19%\n",
      "Epoch: 32/50 | Train Acc: 91.64% | Validation Acc: 90.22%\n",
      "Epoch: 33/50 | Train Acc: 91.76% | Validation Acc: 90.30%\n",
      "Epoch: 34/50 | Train Acc: 91.84% | Validation Acc: 90.34%\n",
      "Epoch: 35/50 | Train Acc: 91.77% | Validation Acc: 90.49%\n",
      "Epoch: 36/50 | Train Acc: 92.00% | Validation Acc: 90.59%\n",
      "Epoch: 37/50 | Train Acc: 92.00% | Validation Acc: 90.60%\n",
      "Epoch: 38/50 | Train Acc: 92.07% | Validation Acc: 90.70%\n",
      "Epoch: 39/50 | Train Acc: 92.19% | Validation Acc: 90.60%\n",
      "Epoch: 40/50 | Train Acc: 92.24% | Validation Acc: 90.73%\n",
      "Epoch: 41/50 | Train Acc: 92.41% | Validation Acc: 90.85%\n",
      "Epoch: 42/50 | Train Acc: 92.45% | Validation Acc: 90.89%\n",
      "Epoch: 43/50 | Train Acc: 92.48% | Validation Acc: 91.04%\n",
      "Epoch: 44/50 | Train Acc: 92.63% | Validation Acc: 91.02%\n",
      "Epoch: 45/50 | Train Acc: 92.70% | Validation Acc: 91.04%\n",
      "Epoch: 46/50 | Train Acc: 92.70% | Validation Acc: 91.13%\n",
      "Epoch: 47/50 | Train Acc: 92.65% | Validation Acc: 91.17%\n",
      "Epoch: 48/50 | Train Acc: 92.86% | Validation Acc: 91.16%\n",
      "Epoch: 49/50 | Train Acc: 92.90% | Validation Acc: 91.22%\n",
      "Epoch: 50/50 | Train Acc: 92.86% | Validation Acc: 91.23%\n"
     ]
    }
   ],
   "source": [
    "np.random.seed(123)\n",
    "epoch_loss, epoch_train_acc, epoch_valid_acc = train(model, X_train, y_train, X_valid, y_valid,num_epochs=50, learning_rate=0.1)"
   ]
  },
  {
   "cell_type": "code",
   "execution_count": 41,
   "metadata": {},
   "outputs": [
    {
     "name": "stdout",
     "output_type": "stream",
     "text": [
      "model.weight_h: [[-0.10952878  0.09876882  0.02733213 ... -0.20517536 -0.14088911\n",
      "   0.10480379]\n",
      " [-0.05057237 -0.07738847 -0.05367562 ...  0.02872483 -0.06138355\n",
      "   0.04095036]\n",
      " [-0.02418152 -0.16461015  0.01523666 ...  0.04630951  0.03582378\n",
      "  -0.00117719]\n",
      " ...\n",
      " [-0.14743767  0.06355685 -0.04922569 ... -0.11641117 -0.117181\n",
      "   0.20434975]\n",
      " [ 0.14054106 -0.0694644   0.06420117 ... -0.11876248 -0.22548478\n",
      "  -0.06257009]\n",
      " [ 0.05230371 -0.03604399 -0.02709539 ... -0.03153416 -0.15202739\n",
      "   0.04913558]]\n",
      "model.bias_h: [ 0.00096572 -0.0155827   0.00156049  0.00681928  0.00996457  0.00880473\n",
      "  0.00874617 -0.00875174  0.01210421  0.00317245 -0.0008186   0.00201298\n",
      "  0.00992991  0.00064259  0.01702845  0.01133489  0.00723213  0.00678052\n",
      "  0.00706405 -0.01160357 -0.00067367  0.0010537   0.01112312  0.00410395\n",
      " -0.00762945 -0.01709597  0.00492151  0.00357296  0.00500975 -0.00890451\n",
      "  0.01195326 -0.00296896 -0.00055028  0.00338949 -0.00228705  0.0019077\n",
      "  0.01487937  0.00076008  0.00613029  0.00914781  0.00779559  0.00629643\n",
      "  0.006912    0.00921658  0.00055672  0.00595601  0.00721526  0.00121519\n",
      " -0.01270305  0.00096984]\n",
      "model.weight_out: [[ 0.90041069 -0.70351073  0.3734214   0.08719729  0.11536737 -0.28331278\n",
      "   0.18308984 -0.48001265  0.37043884 -0.21914615 -1.10819305 -0.07807674\n",
      "   0.65481368 -0.36475467  0.19560044 -0.38839513 -0.30123154  0.36349786\n",
      "  -0.16074803 -0.6114092  -0.02573681  0.53954932 -0.26056745 -0.31613483\n",
      "  -0.2745494  -0.83740201 -0.30533265  0.22281541  0.42974852 -0.38541202\n",
      "   0.25105385 -0.89375273 -0.68322155 -0.31475616 -0.73132378  0.6680595\n",
      "  -0.80788014 -0.57433881 -0.05892876  0.02451082  0.06709617  0.07857615\n",
      "  -0.09932935  0.59190691 -0.37856847 -0.99321948  0.42323402 -0.57498744\n",
      "  -0.53938275 -0.53969845]\n",
      " [-0.60359045  0.41817968  0.07290084 -0.65046895 -0.18268817 -0.34895807\n",
      "  -0.36905386  1.12888875 -0.18340208 -0.42868245  0.1439362   0.1496668\n",
      "  -0.69138632  0.22091007 -1.14876901 -0.39896001  0.21214043 -0.18752913\n",
      "   0.38160572 -0.31297125 -0.02974773 -0.48551956 -0.44518644 -0.82689091\n",
      "   0.67788124  0.96475095 -0.25682846 -0.22061974 -0.41166494  0.23687819\n",
      "  -0.87237533 -0.26548255  0.17965216 -1.0623334   0.13994749 -0.47588974\n",
      "   0.56569598 -0.01477256 -0.53817446  0.29379779  0.15899515  0.80245592\n",
      "   0.5005254  -0.14512087 -0.10001936 -0.50723839 -0.5216933  -0.45250164\n",
      "   0.53748283 -0.63083758]\n",
      " [ 0.45952532 -0.73503778 -0.23123441 -0.01750599 -0.33205719  0.0293048\n",
      "   0.01818762 -0.7670151   0.05204124 -0.32778862  0.37109642 -0.45892977\n",
      "  -0.33654605  0.81949035  0.44668384 -0.15450787 -0.18501724  0.50667338\n",
      "  -0.02227974 -0.11651637 -0.06487285  0.50986912 -0.31947108  0.04507015\n",
      "   0.87323652 -0.73054797 -0.36487038  0.15470118 -0.6695556  -0.4205542\n",
      "   0.2229152  -0.4061858   0.31140778 -0.70518904  0.09662037 -0.70960554\n",
      "   0.3324632  -0.92196083 -0.53565482 -0.00945681 -1.3920894  -0.38500923\n",
      "   0.45862142 -0.24447333  0.04728413  0.83875928  0.51844209  0.26966257\n",
      "  -0.58203349 -1.08109562]\n",
      " [-0.61515351 -0.91358631 -0.28559258  0.34278546 -0.13085309 -0.51047445\n",
      "   0.32939719  0.85448615 -0.26187556 -0.38498572  0.61476564 -0.62499766\n",
      "  -0.0918685   0.03037398 -0.1160908  -0.2290838  -0.1868648  -1.17468312\n",
      "  -0.0419685  -0.56526521 -0.05923004 -0.3917752  -0.21334903  0.32901969\n",
      "  -0.03742223 -0.83027969 -0.37890383 -0.78750218  0.7526194  -0.43326075\n",
      "   0.07794814  0.1095117   0.47929985  0.75509278 -0.1581992  -0.13230188\n",
      "   0.58555469 -0.09488691  0.39661411  0.33011127  0.01155564  0.87762408\n",
      "  -0.47675849 -0.39245865 -0.75910164  0.53368938 -0.48108819 -0.7063075\n",
      "  -0.74659593 -0.98959492]\n",
      " [-0.56063238  0.53714188 -0.05312497  0.00244431  0.136003   -0.17160134\n",
      "   0.69063296 -0.6330424  -0.25114726 -0.40317719  0.08487951 -0.25473352\n",
      "  -0.89270206  0.3735555   0.21418034 -0.19966094 -0.42866729 -0.48992666\n",
      "  -0.36128017  0.50645327 -0.10887576 -0.01051953 -0.29693727  0.8550931\n",
      "   0.0936705   0.36026273 -0.20597492 -0.39456686 -0.46812803 -0.53884771\n",
      "  -1.12040945  0.35636914 -1.24972628  0.01053502  0.91764398  0.83373523\n",
      "  -0.51275497 -0.39759779 -0.65471806 -0.62271927  0.16667144 -0.45161056\n",
      "  -1.09778912 -0.86342331 -0.25613668 -0.4351594  -0.62283888  0.49817494\n",
      "   0.28505561  0.1912376 ]\n",
      " [-0.95015025  0.41614791 -0.34846675  0.20311329 -0.08512074 -0.08321876\n",
      "   0.03380203  0.22339324  0.20130362 -0.33001654 -1.09173333  0.51664502\n",
      "   0.62203041 -0.04036861 -0.89902582 -0.16051249 -0.06136901  0.12856295\n",
      "   0.2197567  -0.36224971 -0.09737158 -0.51685924 -0.11566767 -0.04245399\n",
      "  -0.46390381  0.52525256 -0.36450437 -0.67101465  0.35258302  0.38404762\n",
      "  -0.026419    0.39602849 -0.73307928 -0.7998683  -0.28284265  0.81301425\n",
      "   0.56072074  0.34225905  0.22581983 -0.58718855 -0.47240653 -1.05168889\n",
      "  -0.44214276 -0.40301689 -0.69817862  0.4888428   0.67223251 -0.95662818\n",
      "  -0.91780469  0.55630172]\n",
      " [ 0.69779442 -0.93285863  0.00572751 -0.47265383 -0.1169384   0.40065742\n",
      "  -0.52235481 -0.19809627 -0.2877462  -0.23782666 -0.65494201  0.07738271\n",
      "  -0.55697316 -0.02914212 -0.24595005 -0.23811102  0.34564939  0.11920589\n",
      "  -0.95819227  0.67388561 -0.12956916  0.40486633 -0.24735764 -1.04374865\n",
      "  -0.8012278   0.5124959  -0.24878015 -0.53394351 -0.42100309  0.69753547\n",
      "  -0.9911579   0.03351452 -0.30373824  0.14002742  0.57696651 -0.01822854\n",
      "  -0.65537288 -0.56208239 -0.61799661  0.0080708   0.27010108 -0.14566744\n",
      "   0.70520885 -0.40766411 -0.07247251  0.21737116  0.42984721 -0.28721754\n",
      "  -0.50780522  0.46450086]\n",
      " [-0.23411573  0.75833651 -0.33608401  0.34162634 -0.07362113 -0.35382078\n",
      "  -0.99358162 -0.34989818 -0.2999611  -0.18320643  0.3399955   0.12990001\n",
      "  -0.20292286 -0.16541355  0.62489425 -0.10551975  0.29561735 -0.82184931\n",
      "   0.31444069 -0.64927009  0.06099873 -0.71924011 -0.38908454 -0.68163804\n",
      "  -0.38033945 -0.38632569 -0.13887396 -0.08470806  0.71906998 -0.74815871\n",
      "   0.36545977 -0.74469831 -0.05004554 -0.68452406  0.03463921 -0.24114455\n",
      "  -0.60038458  0.38110138  0.31075024 -0.70112337 -0.47275354 -0.35261853\n",
      "  -0.76323329  0.40558724  0.59608497 -0.64728713 -0.66874082  0.91418069\n",
      "  -0.08316729 -0.51869155]\n",
      " [-0.64913679 -0.5774022  -0.03292863 -1.16157907 -0.31419893  0.62928849\n",
      "   0.41449801 -0.54386512 -0.0529225  -0.38092318 -0.51782661 -0.9528133\n",
      "   1.10718846 -0.30403957 -0.5758708  -0.43154831 -0.08087096  0.29506435\n",
      "   0.2013609  -0.50286596 -0.09017938 -0.5277537  -0.35624486  0.39804083\n",
      "  -0.75157027 -0.40180731 -0.3671133   0.3448914  -1.19612605 -0.69278494\n",
      "   0.29758846  0.38280309 -0.4180994  -0.2046035  -0.25570378 -0.69266582\n",
      "   0.59811229  0.34948973 -0.64942125 -0.03900307  0.06109553 -0.01100746\n",
      "   0.27097831  0.54073001 -0.49282477  0.03563027 -0.33474459  0.44159335\n",
      "   0.78069862  0.78560863]\n",
      " [-0.07345287  0.48357646 -0.15242814 -0.82764455  0.04972549 -0.03221178\n",
      "  -0.07568467 -0.33443971  0.48516651 -0.26538692  0.02194937  0.09268547\n",
      "  -0.78495271 -0.69540555 -0.72205578 -0.2694941  -0.24421797 -0.37532742\n",
      "  -0.56656388  0.79800108  0.02358099 -0.55233444 -0.2275869   0.4840958\n",
      "   0.3378133  -0.71434798 -0.22964469  0.00313357 -0.86336995  0.61675346\n",
      "   0.1177151  -0.64294881  0.72734851  0.94502877 -1.37189062 -0.94152621\n",
      "  -0.805638   -0.01642987  0.59645995 -0.64068408  0.05127118 -0.09802323\n",
      "  -0.65558235 -0.44012079 -0.06901352 -0.50089276 -0.29906547 -0.26689914\n",
      "   0.36424805  0.65334184]]\n",
      "model.bias_out: [-0.32962622 -0.31306599 -0.30044197 -0.32231645 -0.34125547 -0.24165474\n",
      " -0.20481244 -0.17961865 -0.39085105 -0.29235937]\n"
     ]
    }
   ],
   "source": [
    "print(\"model.weight_h:\",model.weight_h )\n",
    "print(\"model.bias_h:\",model.bias_h )\n",
    "print(\"model.weight_out:\",model.weight_out )\n",
    "print(\"model.bias_out:\",model.bias_out )"
   ]
  },
  {
   "cell_type": "code",
   "execution_count": 37,
   "metadata": {},
   "outputs": [
    {
     "data": {
      "image/png": "[encoded data removed]",
      "text/plain": [
       "<Figure size 640x480 with 1 Axes>"
      ]
     },
     "metadata": {},
     "output_type": "display_data"
    }
   ],
   "source": [
    "plt.plot(range(len(epoch_loss)), epoch_loss)\n",
    "plt.ylabel('Mean squared error')\n",
    "plt.xlabel('Epoch')\n",
    "plt.show()"
   ]
  },
  {
   "cell_type": "code",
   "execution_count": 38,
   "metadata": {},
   "outputs": [
    {
     "data": {
      "image/png": "[encoded data removed]",
      "text/plain": [
       "<Figure size 640x480 with 1 Axes>"
      ]
     },
     "metadata": {},
     "output_type": "display_data"
    }
   ],
   "source": [
    "plt.plot(range(len(epoch_train_acc)), epoch_train_acc,\n",
    "label='Training')\n",
    "plt.plot(range(len(epoch_valid_acc)), epoch_valid_acc,\n",
    "label='Validation')\n",
    "plt.ylabel('Accuracy')\n",
    "plt.xlabel('Epochs')\n",
    "plt.legend(loc='lower right')\n",
    "plt.show()"
   ]
  },
  {
   "cell_type": "code",
   "execution_count": 39,
   "metadata": {},
   "outputs": [
    {
     "name": "stdout",
     "output_type": "stream",
     "text": [
      "Test MSE: 0.02, Test Acc: 0.91\n"
     ]
    }
   ],
   "source": [
    "# test dataset: \n",
    "test_mse,test_acc=compute_mse_and_acc(model,X_test,y_test)\n",
    "print(f'Test MSE: {test_mse:.2f}, Test Acc: {test_acc:.2f}')"
   ]
  }
 ],
 "metadata": {
  "kernelspec": {
   "display_name": "my_virtual_env",
   "language": "python",
   "name": "python3"
  },
  "language_info": {
   "codemirror_mode": {
    "name": "ipython",
    "version": 3
   },
   "file_extension": ".py",
   "mimetype": "text/x-python",
   "name": "python",
   "nbconvert_exporter": "python",
   "pygments_lexer": "ipython3",
   "version": "3.10.12"
  }
 },
 "nbformat": 4,
 "nbformat_minor": 2
}
