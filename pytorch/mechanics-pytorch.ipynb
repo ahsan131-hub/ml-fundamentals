{
 "cells": [
  {
   "cell_type": "code",
   "execution_count": 1,
   "metadata": {},
   "outputs": [
    {
     "name": "stdout",
     "output_type": "stream",
     "text": [
      "tensor(1.)\n",
      "tensor([1., 2.])\n",
      "tensor([[1., 2.],\n",
      "        [2., 3.]])\n"
     ]
    }
   ],
   "source": [
    "# Creating graphs with Pytorch\n",
    "import torch\n",
    "def compute_z(a,b,c):\n",
    "    r1=torch.sub(a,b)\n",
    "    r2=torch.mul(r1,2)\n",
    "    r3=torch.add(r2,c)\n",
    "    return r3\n",
    "\n",
    "print(compute_z(torch.tensor(1.0),torch.tensor(2.0),torch.tensor(3.0)))\n",
    "print(compute_z(torch.tensor([1.0,2.0]),torch.tensor([2.0,3.0]),torch.tensor([3.0,4.0])))\n",
    "print(compute_z(torch.tensor([[1.0,2.0],[2.0,3.0]]),torch.tensor([[2.0,3.0],[3.0,4.0]]),torch.tensor([[3.0,4.0],[4.0,5.0]])))"
   ]
  },
  {
   "cell_type": "code",
   "execution_count": 4,
   "metadata": {},
   "outputs": [
    {
     "name": "stdout",
     "output_type": "stream",
     "text": [
      "tensor([[ 0.0000e+00,  0.0000e+00,  4.3332e+15,  3.2506e-41,  6.9513e+17],\n",
      "        [ 3.2506e-41, -7.0998e+19,  4.1750e-41,  1.4013e-45,  0.0000e+00],\n",
      "        [ 2.1019e-44,  0.0000e+00,  0.0000e+00,  0.0000e+00,  0.0000e+00]])\n",
      "tensor([[-0.0065,  0.4646, -0.7128, -0.6373, -0.3336],\n",
      "        [ 0.2322, -0.0172,  0.6867, -0.0769,  0.2292],\n",
      "        [-0.2617, -0.1702, -0.8274, -0.5736, -0.3570]])\n"
     ]
    }
   ],
   "source": [
    "# Xavier Glorot initialization\n",
    "import torch.nn as nn\n",
    "torch.manual_seed(0)\n",
    "w=torch.empty(3,5)\n",
    "print(w)\n",
    "nn.init.xavier_uniform_(w)\n",
    "print(w)"
   ]
  },
  {
   "cell_type": "code",
   "execution_count": 12,
   "metadata": {},
   "outputs": [
    {
     "name": "stdout",
     "output_type": "stream",
     "text": [
      "tensor(-0.5600)\n",
      "tensor(-0.4000)\n"
     ]
    }
   ],
   "source": [
    "# computing gradient with respect to trainable var\n",
    "x=torch.tensor([1.4])\n",
    "y=torch.tensor([2.1])\n",
    "w=torch.tensor(1.0,requires_grad=True)\n",
    "b=torch.tensor(.5,requires_grad=True)\n",
    "z=torch.add(torch.mul(w,x),b)\n",
    "loss=(y-z).pow(2).sum()\n",
    "loss.backward()\n",
    "print(w.grad)\n",
    "print(b.grad)"
   ]
  }
 ],
 "metadata": {
  "kernelspec": {
   "display_name": "my_virtual_env",
   "language": "python",
   "name": "python3"
  },
  "language_info": {
   "codemirror_mode": {
    "name": "ipython",
    "version": 3
   },
   "file_extension": ".py",
   "mimetype": "text/x-python",
   "name": "python",
   "nbconvert_exporter": "python",
   "pygments_lexer": "ipython3",
   "version": "3.10.12"
  }
 },
 "nbformat": 4,
 "nbformat_minor": 2
}
